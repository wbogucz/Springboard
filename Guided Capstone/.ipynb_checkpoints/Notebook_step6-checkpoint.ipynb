{
 "cells": [
  {
   "cell_type": "markdown",
   "metadata": {
    "colab_type": "text",
    "id": "cf5CmXQCZyF1"
   },
   "source": [
    "# Guided Capstone Step 6. Documentation"
   ]
  },
  {
   "cell_type": "markdown",
   "metadata": {
    "colab_type": "text",
    "id": "JbZXsVevfr9M"
   },
   "source": [
    "**The Data Science Method**  \n",
    "\n",
    "\n",
    "1.   Problem Identification \n",
    "\n",
    "2.   Data Wrangling \n",
    "  \n",
    "3.   Exploratory Data Analysis \n",
    " \n",
    "4.   Pre-processing and Training Data Development\n",
    "\n",
    "5.  Modeling\n",
    "\n",
    "6.   **Documentation**\n",
    "  * Review the Results\n",
    "  * Finalize Code \n",
    "  * Finalize Documentation\n",
    "  * Create a Project Report \n",
    "  * Create a Slide Deck for the Executive Audience"
   ]
  },
  {
   "cell_type": "markdown",
   "metadata": {
    "colab_type": "text",
    "id": "D-oGciwnGUYk"
   },
   "source": [
    "In this guided capstone we are going to revisit many of the actions we took in the previous guided capstone steps. This gives you the opportunity to practice the code you wrote to solve the questions in step 4 and 5. "
   ]
  },
  {
   "cell_type": "markdown",
   "metadata": {
    "colab_type": "text",
    "id": "K8xfkAqqZyF2"
   },
   "source": [
    "**<font color='teal'> Start by loading the necessary packages and printing out our current working directory just to confirm we are in the correct project directory. </font>**"
   ]
  },
  {
   "cell_type": "code",
   "execution_count": 50,
   "metadata": {
    "colab": {},
    "colab_type": "code",
    "id": "ry6WPL5eZyF3"
   },
   "outputs": [],
   "source": [
    "import os\n",
    "import pandas as pd\n",
    "import datetime\n",
    "import seaborn as sns\n",
    "import matplotlib.pyplot as plt\n",
    "import numpy as np\n",
    "import math\n",
    "%matplotlib inline"
   ]
  },
  {
   "cell_type": "code",
   "execution_count": 26,
   "metadata": {},
   "outputs": [],
   "source": [
    "os.getcwd()\n",
    "os.chdir(r'C:\\Users\\2bogu\\Desktop\\Sringboard_Materials\\guided capstone mat\\data')\n",
    "df = pd.read_csv('step3_output.csv', index_col=0)"
   ]
  },
  {
   "cell_type": "code",
   "execution_count": 27,
   "metadata": {},
   "outputs": [
    {
     "data": {
      "text/html": [
       "<div>\n",
       "<style scoped>\n",
       "    .dataframe tbody tr th:only-of-type {\n",
       "        vertical-align: middle;\n",
       "    }\n",
       "\n",
       "    .dataframe tbody tr th {\n",
       "        vertical-align: top;\n",
       "    }\n",
       "\n",
       "    .dataframe thead th {\n",
       "        text-align: right;\n",
       "    }\n",
       "</style>\n",
       "<table border=\"1\" class=\"dataframe\">\n",
       "  <thead>\n",
       "    <tr style=\"text-align: right;\">\n",
       "      <th></th>\n",
       "      <th>Name</th>\n",
       "      <th>state</th>\n",
       "      <th>summit_elev</th>\n",
       "      <th>vertical_drop</th>\n",
       "      <th>trams</th>\n",
       "      <th>fastEight</th>\n",
       "      <th>fastSixes</th>\n",
       "      <th>fastQuads</th>\n",
       "      <th>quad</th>\n",
       "      <th>triple</th>\n",
       "      <th>...</th>\n",
       "      <th>SkiableTerrain_ac</th>\n",
       "      <th>Snow Making_ac</th>\n",
       "      <th>daysOpenLastYear</th>\n",
       "      <th>yearsOpen</th>\n",
       "      <th>averageSnowfall</th>\n",
       "      <th>AdultWeekday</th>\n",
       "      <th>AdultWeekend</th>\n",
       "      <th>projectedDaysOpen</th>\n",
       "      <th>NightSkiing_ac</th>\n",
       "      <th>clusters</th>\n",
       "    </tr>\n",
       "  </thead>\n",
       "  <tbody>\n",
       "    <tr>\n",
       "      <th>1</th>\n",
       "      <td>Eaglecrest Ski Area</td>\n",
       "      <td>Alaska</td>\n",
       "      <td>2600.0</td>\n",
       "      <td>1540.0</td>\n",
       "      <td>0.0</td>\n",
       "      <td>0.0</td>\n",
       "      <td>0.0</td>\n",
       "      <td>0.0</td>\n",
       "      <td>0.0</td>\n",
       "      <td>0.0</td>\n",
       "      <td>...</td>\n",
       "      <td>640.0</td>\n",
       "      <td>60.0</td>\n",
       "      <td>45.0</td>\n",
       "      <td>44.0</td>\n",
       "      <td>350.0</td>\n",
       "      <td>47.000000</td>\n",
       "      <td>53.00000</td>\n",
       "      <td>90.0</td>\n",
       "      <td>0.0</td>\n",
       "      <td>0</td>\n",
       "    </tr>\n",
       "    <tr>\n",
       "      <th>2</th>\n",
       "      <td>Hilltop Ski Area</td>\n",
       "      <td>Alaska</td>\n",
       "      <td>2090.0</td>\n",
       "      <td>294.0</td>\n",
       "      <td>0.0</td>\n",
       "      <td>0.0</td>\n",
       "      <td>0.0</td>\n",
       "      <td>0.0</td>\n",
       "      <td>0.0</td>\n",
       "      <td>1.0</td>\n",
       "      <td>...</td>\n",
       "      <td>30.0</td>\n",
       "      <td>30.0</td>\n",
       "      <td>150.0</td>\n",
       "      <td>36.0</td>\n",
       "      <td>69.0</td>\n",
       "      <td>30.000000</td>\n",
       "      <td>34.00000</td>\n",
       "      <td>152.0</td>\n",
       "      <td>30.0</td>\n",
       "      <td>0</td>\n",
       "    </tr>\n",
       "    <tr>\n",
       "      <th>4</th>\n",
       "      <td>Sunrise Park Resort</td>\n",
       "      <td>Arizona</td>\n",
       "      <td>11100.0</td>\n",
       "      <td>1800.0</td>\n",
       "      <td>0.0</td>\n",
       "      <td>0.0</td>\n",
       "      <td>0.0</td>\n",
       "      <td>1.0</td>\n",
       "      <td>2.0</td>\n",
       "      <td>3.0</td>\n",
       "      <td>...</td>\n",
       "      <td>800.0</td>\n",
       "      <td>80.0</td>\n",
       "      <td>115.0</td>\n",
       "      <td>49.0</td>\n",
       "      <td>250.0</td>\n",
       "      <td>74.000000</td>\n",
       "      <td>78.00000</td>\n",
       "      <td>104.0</td>\n",
       "      <td>80.0</td>\n",
       "      <td>2</td>\n",
       "    </tr>\n",
       "    <tr>\n",
       "      <th>5</th>\n",
       "      <td>Yosemite Ski &amp; Snowboard Area</td>\n",
       "      <td>California</td>\n",
       "      <td>7800.0</td>\n",
       "      <td>600.0</td>\n",
       "      <td>0.0</td>\n",
       "      <td>0.0</td>\n",
       "      <td>0.0</td>\n",
       "      <td>0.0</td>\n",
       "      <td>0.0</td>\n",
       "      <td>1.0</td>\n",
       "      <td>...</td>\n",
       "      <td>88.0</td>\n",
       "      <td>0.0</td>\n",
       "      <td>110.0</td>\n",
       "      <td>84.0</td>\n",
       "      <td>300.0</td>\n",
       "      <td>47.000000</td>\n",
       "      <td>47.00000</td>\n",
       "      <td>107.0</td>\n",
       "      <td>0.0</td>\n",
       "      <td>1</td>\n",
       "    </tr>\n",
       "    <tr>\n",
       "      <th>6</th>\n",
       "      <td>Bear Mountain</td>\n",
       "      <td>California</td>\n",
       "      <td>8805.0</td>\n",
       "      <td>1665.0</td>\n",
       "      <td>0.0</td>\n",
       "      <td>0.0</td>\n",
       "      <td>0.0</td>\n",
       "      <td>2.0</td>\n",
       "      <td>1.0</td>\n",
       "      <td>2.0</td>\n",
       "      <td>...</td>\n",
       "      <td>198.0</td>\n",
       "      <td>198.0</td>\n",
       "      <td>122.0</td>\n",
       "      <td>76.0</td>\n",
       "      <td>100.0</td>\n",
       "      <td>57.916957</td>\n",
       "      <td>64.16681</td>\n",
       "      <td>130.0</td>\n",
       "      <td>0.0</td>\n",
       "      <td>1</td>\n",
       "    </tr>\n",
       "  </tbody>\n",
       "</table>\n",
       "<p>5 rows × 26 columns</p>\n",
       "</div>"
      ],
      "text/plain": [
       "                            Name       state  summit_elev  vertical_drop  \\\n",
       "1            Eaglecrest Ski Area      Alaska       2600.0         1540.0   \n",
       "2               Hilltop Ski Area      Alaska       2090.0          294.0   \n",
       "4            Sunrise Park Resort     Arizona      11100.0         1800.0   \n",
       "5  Yosemite Ski & Snowboard Area  California       7800.0          600.0   \n",
       "6                  Bear Mountain  California       8805.0         1665.0   \n",
       "\n",
       "   trams  fastEight  fastSixes  fastQuads  quad  triple  ...  \\\n",
       "1    0.0        0.0        0.0        0.0   0.0     0.0  ...   \n",
       "2    0.0        0.0        0.0        0.0   0.0     1.0  ...   \n",
       "4    0.0        0.0        0.0        1.0   2.0     3.0  ...   \n",
       "5    0.0        0.0        0.0        0.0   0.0     1.0  ...   \n",
       "6    0.0        0.0        0.0        2.0   1.0     2.0  ...   \n",
       "\n",
       "   SkiableTerrain_ac  Snow Making_ac  daysOpenLastYear  yearsOpen  \\\n",
       "1              640.0            60.0              45.0       44.0   \n",
       "2               30.0            30.0             150.0       36.0   \n",
       "4              800.0            80.0             115.0       49.0   \n",
       "5               88.0             0.0             110.0       84.0   \n",
       "6              198.0           198.0             122.0       76.0   \n",
       "\n",
       "   averageSnowfall  AdultWeekday  AdultWeekend  projectedDaysOpen  \\\n",
       "1            350.0     47.000000      53.00000               90.0   \n",
       "2             69.0     30.000000      34.00000              152.0   \n",
       "4            250.0     74.000000      78.00000              104.0   \n",
       "5            300.0     47.000000      47.00000              107.0   \n",
       "6            100.0     57.916957      64.16681              130.0   \n",
       "\n",
       "   NightSkiing_ac  clusters  \n",
       "1             0.0         0  \n",
       "2            30.0         0  \n",
       "4            80.0         2  \n",
       "5             0.0         1  \n",
       "6             0.0         1  \n",
       "\n",
       "[5 rows x 26 columns]"
      ]
     },
     "execution_count": 27,
     "metadata": {},
     "output_type": "execute_result"
    }
   ],
   "source": [
    "df.head()"
   ]
  },
  {
   "cell_type": "markdown",
   "metadata": {
    "colab_type": "text",
    "id": "0HTP9cF2GUYs"
   },
   "source": [
    "## Fit Models with Training Dataset"
   ]
  },
  {
   "cell_type": "markdown",
   "metadata": {
    "colab_type": "text",
    "id": "A2FmSbtCGUYt"
   },
   "source": [
    "**<font color='teal'> Using sklearn fit the model you chose in Guided Capstone 5 on your training dataset. This includes: creating dummy features for states if you need them, scaling the data,and creating train and test splits before fitting the chosen model.Also, remember to generate a model performance score(MAE, or explained variance) based on the testing hold-out data set.</font>**"
   ]
  },
  {
   "cell_type": "markdown",
   "metadata": {},
   "source": [
    "# Model 1"
   ]
  },
  {
   "cell_type": "code",
   "execution_count": 28,
   "metadata": {},
   "outputs": [
    {
     "name": "stdout",
     "output_type": "stream",
     "text": [
      "-3.3312268851501085e+20 31019340171.160862\n"
     ]
    },
    {
     "data": {
      "text/html": [
       "<div>\n",
       "<style scoped>\n",
       "    .dataframe tbody tr th:only-of-type {\n",
       "        vertical-align: middle;\n",
       "    }\n",
       "\n",
       "    .dataframe tbody tr th {\n",
       "        vertical-align: top;\n",
       "    }\n",
       "\n",
       "    .dataframe thead th {\n",
       "        text-align: right;\n",
       "    }\n",
       "</style>\n",
       "<table border=\"1\" class=\"dataframe\">\n",
       "  <thead>\n",
       "    <tr style=\"text-align: right;\">\n",
       "      <th></th>\n",
       "      <th>Coefficient</th>\n",
       "    </tr>\n",
       "  </thead>\n",
       "  <tbody>\n",
       "    <tr>\n",
       "      <th>fastSixes</th>\n",
       "      <td>8.762081e+12</td>\n",
       "    </tr>\n",
       "    <tr>\n",
       "      <th>fastEight</th>\n",
       "      <td>6.185674e+12</td>\n",
       "    </tr>\n",
       "    <tr>\n",
       "      <th>trams</th>\n",
       "      <td>5.130946e+12</td>\n",
       "    </tr>\n",
       "    <tr>\n",
       "      <th>total_chairs</th>\n",
       "      <td>4.612489e+12</td>\n",
       "    </tr>\n",
       "    <tr>\n",
       "      <th>double</th>\n",
       "      <td>2.436670e+12</td>\n",
       "    </tr>\n",
       "    <tr>\n",
       "      <th>surface</th>\n",
       "      <td>2.175887e+12</td>\n",
       "    </tr>\n",
       "    <tr>\n",
       "      <th>triple</th>\n",
       "      <td>2.003859e+12</td>\n",
       "    </tr>\n",
       "    <tr>\n",
       "      <th>quad</th>\n",
       "      <td>1.418499e+12</td>\n",
       "    </tr>\n",
       "    <tr>\n",
       "      <th>fastQuads</th>\n",
       "      <td>1.368791e+12</td>\n",
       "    </tr>\n",
       "    <tr>\n",
       "      <th>state_Michigan</th>\n",
       "      <td>6.265902e+11</td>\n",
       "    </tr>\n",
       "  </tbody>\n",
       "</table>\n",
       "</div>"
      ],
      "text/plain": [
       "                 Coefficient\n",
       "fastSixes       8.762081e+12\n",
       "fastEight       6.185674e+12\n",
       "trams           5.130946e+12\n",
       "total_chairs    4.612489e+12\n",
       "double          2.436670e+12\n",
       "surface         2.175887e+12\n",
       "triple          2.003859e+12\n",
       "quad            1.418499e+12\n",
       "fastQuads       1.368791e+12\n",
       "state_Michigan  6.265902e+11"
      ]
     },
     "execution_count": 28,
     "metadata": {},
     "output_type": "execute_result"
    }
   ],
   "source": [
    "dfo = df[['state']]\n",
    "df = pd.concat([df.drop(dfo, axis=1), pd.get_dummies(dfo)], axis=1)\n",
    "\n",
    "# first we import the preprocessing package from the sklearn library\n",
    "from sklearn import preprocessing\n",
    "\n",
    "# Declare an explanatory variable, called X,and assign it the result of dropping 'Name' and 'AdultWeekend' from the df\n",
    "X = df.drop(['Name','AdultWeekend'], axis=1)\n",
    "\n",
    "# Declare a response variable, called y, and assign it the AdultWeekend column of the df \n",
    "y = df.AdultWeekend \n",
    "\n",
    "# Here we use the StandardScaler() method of the preprocessing package, and then call the fit() method with parameter X \n",
    "scaler = preprocessing.StandardScaler().fit(X)\n",
    "\n",
    "# Declare a variable called X_scaled, and assign it the result of calling the transform() method with parameter X \n",
    "X_scaled=scaler.transform(X) \n",
    "\n",
    "# Import the train_test_split function from the sklearn.model_selection utility.  \n",
    "from sklearn.model_selection import train_test_split\n",
    "\n",
    "# Get the 1-dimensional flattened array of our response variable y by calling the ravel() function on y\n",
    "y = y.ravel()\n",
    "\n",
    "# Call the train_test_split() function with the first two parameters set to X_scaled and y \n",
    "# Declare four variables, X_train, X_test, y_train and y_test separated by commas \n",
    "X_train, X_test, y_train, y_test = train_test_split(X_scaled, y, test_size=0.25, random_state=1)\n",
    "\n",
    "#all first model set\n",
    "from sklearn import linear_model\n",
    "from sklearn.metrics import explained_variance_score,mean_absolute_error\n",
    "lm = linear_model.LinearRegression()\n",
    "model = lm.fit(X_train,y_train)\n",
    "\n",
    "# Make a variable called y_pred and assign it the result of calling predict() on our model variable with parameter X_test\n",
    "y_pred = lm.predict(X_test)\n",
    "\n",
    "import sklearn.metrics\n",
    "evs = explained_variance_score(y_test, y_pred)\n",
    "mbe = mean_absolute_error(y_test, y_pred)\n",
    "print(evs, mbe)\n",
    "\n",
    "lm.intercept_\n",
    "\n",
    "# You might want to make a pandas DataFrame displaying the coefficients for each state like so: \n",
    "dfcoe = pd.DataFrame(abs(lm.coef_), X.columns, columns=['Coefficient'])\n",
    "dfcoe.sort_values(ascending=False, by=['Coefficient']).head(10)"
   ]
  },
  {
   "cell_type": "code",
   "execution_count": 29,
   "metadata": {},
   "outputs": [
    {
     "data": {
      "text/html": [
       "<div>\n",
       "<style scoped>\n",
       "    .dataframe tbody tr th:only-of-type {\n",
       "        vertical-align: middle;\n",
       "    }\n",
       "\n",
       "    .dataframe tbody tr th {\n",
       "        vertical-align: top;\n",
       "    }\n",
       "\n",
       "    .dataframe thead th {\n",
       "        text-align: right;\n",
       "    }\n",
       "</style>\n",
       "<table border=\"1\" class=\"dataframe\">\n",
       "  <thead>\n",
       "    <tr style=\"text-align: right;\">\n",
       "      <th></th>\n",
       "      <th>summit_elev_coef</th>\n",
       "      <th>vertical_drop_coef</th>\n",
       "      <th>trams_coef</th>\n",
       "      <th>fastEight_coef</th>\n",
       "      <th>fastSixes_coef</th>\n",
       "      <th>fastQuads_coef</th>\n",
       "      <th>quad_coef</th>\n",
       "      <th>triple_coef</th>\n",
       "      <th>double_coef</th>\n",
       "      <th>surface_coef</th>\n",
       "      <th>...</th>\n",
       "      <th>state_Tennessee_coef</th>\n",
       "      <th>state_Utah_coef</th>\n",
       "      <th>state_Vermont_coef</th>\n",
       "      <th>state_Virginia_coef</th>\n",
       "      <th>state_Washington_coef</th>\n",
       "      <th>state_West Virginia_coef</th>\n",
       "      <th>state_Wisconsin_coef</th>\n",
       "      <th>state_Wyoming_coef</th>\n",
       "      <th>EVS</th>\n",
       "      <th>MAE</th>\n",
       "    </tr>\n",
       "  </thead>\n",
       "  <tbody>\n",
       "    <tr>\n",
       "      <th>Model 1</th>\n",
       "      <td>3.541908</td>\n",
       "      <td>1.387301</td>\n",
       "      <td>5.130946e+12</td>\n",
       "      <td>6.185674e+12</td>\n",
       "      <td>8.762081e+12</td>\n",
       "      <td>1.368791e+12</td>\n",
       "      <td>1.418499e+12</td>\n",
       "      <td>2.003859e+12</td>\n",
       "      <td>2.436670e+12</td>\n",
       "      <td>2.175887e+12</td>\n",
       "      <td>...</td>\n",
       "      <td>1.269512e+11</td>\n",
       "      <td>3.543162e+11</td>\n",
       "      <td>3.750828e+11</td>\n",
       "      <td>2.190578e+11</td>\n",
       "      <td>3.543162e+11</td>\n",
       "      <td>2.524666e+11</td>\n",
       "      <td>4.785662e+11</td>\n",
       "      <td>3.320716e+11</td>\n",
       "      <td>-3.331227e+20</td>\n",
       "      <td>3.101934e+10</td>\n",
       "    </tr>\n",
       "  </tbody>\n",
       "</table>\n",
       "<p>1 rows × 60 columns</p>\n",
       "</div>"
      ],
      "text/plain": [
       "         summit_elev_coef  vertical_drop_coef    trams_coef  fastEight_coef  \\\n",
       "Model 1          3.541908            1.387301  5.130946e+12    6.185674e+12   \n",
       "\n",
       "         fastSixes_coef  fastQuads_coef     quad_coef   triple_coef  \\\n",
       "Model 1    8.762081e+12    1.368791e+12  1.418499e+12  2.003859e+12   \n",
       "\n",
       "          double_coef  surface_coef  ...  state_Tennessee_coef  \\\n",
       "Model 1  2.436670e+12  2.175887e+12  ...          1.269512e+11   \n",
       "\n",
       "         state_Utah_coef  state_Vermont_coef  state_Virginia_coef  \\\n",
       "Model 1     3.543162e+11        3.750828e+11         2.190578e+11   \n",
       "\n",
       "         state_Washington_coef  state_West Virginia_coef  \\\n",
       "Model 1           3.543162e+11              2.524666e+11   \n",
       "\n",
       "         state_Wisconsin_coef  state_Wyoming_coef           EVS           MAE  \n",
       "Model 1          4.785662e+11        3.320716e+11 -3.331227e+20  3.101934e+10  \n",
       "\n",
       "[1 rows x 60 columns]"
      ]
     },
     "execution_count": 29,
     "metadata": {},
     "output_type": "execute_result"
    }
   ],
   "source": [
    "dfmd1 = dfcoe.T.add_suffix('_coef')\n",
    "dfmd1.index = ['Model 1']\n",
    "dfmd1['EVS'] = [evs]\n",
    "dfmd1['MAE'] = [mbe]\n",
    "dfmd1"
   ]
  },
  {
   "cell_type": "markdown",
   "metadata": {},
   "source": [
    "# Model 2"
   ]
  },
  {
   "cell_type": "code",
   "execution_count": 30,
   "metadata": {},
   "outputs": [
    {
     "name": "stdout",
     "output_type": "stream",
     "text": [
      "0.6959441471403798 6.348645827530874\n"
     ]
    },
    {
     "data": {
      "text/html": [
       "<div>\n",
       "<style scoped>\n",
       "    .dataframe tbody tr th:only-of-type {\n",
       "        vertical-align: middle;\n",
       "    }\n",
       "\n",
       "    .dataframe tbody tr th {\n",
       "        vertical-align: top;\n",
       "    }\n",
       "\n",
       "    .dataframe thead th {\n",
       "        text-align: right;\n",
       "    }\n",
       "</style>\n",
       "<table border=\"1\" class=\"dataframe\">\n",
       "  <thead>\n",
       "    <tr style=\"text-align: right;\">\n",
       "      <th></th>\n",
       "      <th>Coefficient</th>\n",
       "    </tr>\n",
       "  </thead>\n",
       "  <tbody>\n",
       "    <tr>\n",
       "      <th>AdultWeekday</th>\n",
       "      <td>13.173677</td>\n",
       "    </tr>\n",
       "    <tr>\n",
       "      <th>SkiableTerrain_ac</th>\n",
       "      <td>2.840798</td>\n",
       "    </tr>\n",
       "    <tr>\n",
       "      <th>clusters</th>\n",
       "      <td>2.382784</td>\n",
       "    </tr>\n",
       "    <tr>\n",
       "      <th>vertical_drop</th>\n",
       "      <td>2.350428</td>\n",
       "    </tr>\n",
       "    <tr>\n",
       "      <th>quad</th>\n",
       "      <td>1.956536</td>\n",
       "    </tr>\n",
       "    <tr>\n",
       "      <th>daysOpenLastYear</th>\n",
       "      <td>1.508513</td>\n",
       "    </tr>\n",
       "    <tr>\n",
       "      <th>Runs</th>\n",
       "      <td>1.291309</td>\n",
       "    </tr>\n",
       "    <tr>\n",
       "      <th>surface</th>\n",
       "      <td>1.214620</td>\n",
       "    </tr>\n",
       "    <tr>\n",
       "      <th>projectedDaysOpen</th>\n",
       "      <td>1.204303</td>\n",
       "    </tr>\n",
       "    <tr>\n",
       "      <th>triple</th>\n",
       "      <td>1.058218</td>\n",
       "    </tr>\n",
       "  </tbody>\n",
       "</table>\n",
       "</div>"
      ],
      "text/plain": [
       "                   Coefficient\n",
       "AdultWeekday         13.173677\n",
       "SkiableTerrain_ac     2.840798\n",
       "clusters              2.382784\n",
       "vertical_drop         2.350428\n",
       "quad                  1.956536\n",
       "daysOpenLastYear      1.508513\n",
       "Runs                  1.291309\n",
       "surface               1.214620\n",
       "projectedDaysOpen     1.204303\n",
       "triple                1.058218"
      ]
     },
     "execution_count": 30,
     "metadata": {},
     "output_type": "execute_result"
    }
   ],
   "source": [
    "df = pd.read_csv('step3_output.csv', index_col=0)\n",
    "\n",
    "# first we import the preprocessing package from the sklearn library\n",
    "from sklearn import preprocessing\n",
    "\n",
    "# Declare an explanatory variable, called X,and assign it the result of dropping 'Name' and 'AdultWeekend' from the df\n",
    "X = df.drop(['Name','AdultWeekend','state'], axis=1)\n",
    "\n",
    "# Declare a response variable, called y, and assign it the AdultWeekend column of the df \n",
    "y = df.AdultWeekend \n",
    "\n",
    "# Here we use the StandardScaler() method of the preprocessing package, and then call the fit() method with parameter X \n",
    "scaler = preprocessing.StandardScaler().fit(X)\n",
    "\n",
    "# Declare a variable called X_scaled, and assign it the result of calling the transform() method with parameter X \n",
    "X_scaled=scaler.transform(X) \n",
    "\n",
    "# Import the train_test_split function from the sklearn.model_selection utility.  \n",
    "from sklearn.model_selection import train_test_split\n",
    "\n",
    "# Get the 1-dimensional flattened array of our response variable y by calling the ravel() function on y\n",
    "y = y.ravel()\n",
    "\n",
    "# Call the train_test_split() function with the first two parameters set to X_scaled and y \n",
    "# Declare four variables, X_train, X_test, y_train and y_test separated by commas \n",
    "X_train, X_test, y_train, y_test = train_test_split(X_scaled, y, test_size=0.25, random_state=1)\n",
    "\n",
    "#all first model set\n",
    "from sklearn import linear_model\n",
    "from sklearn.metrics import explained_variance_score,mean_absolute_error\n",
    "lm = linear_model.LinearRegression()\n",
    "model = lm.fit(X_train,y_train)\n",
    "\n",
    "# Make a variable called y_pred and assign it the result of calling predict() on our model variable with parameter X_test\n",
    "y_pred = lm.predict(X_test)\n",
    "\n",
    "import sklearn.metrics\n",
    "evs = explained_variance_score(y_test, y_pred)\n",
    "mbe = mean_absolute_error(y_test, y_pred)\n",
    "print(evs, mbe)\n",
    "\n",
    "lm.intercept_\n",
    "\n",
    "# You might want to make a pandas DataFrame displaying the coefficients for each state like so: \n",
    "dfcoe = pd.DataFrame(abs(lm.coef_), X.columns, columns=['Coefficient'])\n",
    "dfcoe.sort_values(ascending=False, by=['Coefficient']).head(10)"
   ]
  },
  {
   "cell_type": "code",
   "execution_count": 31,
   "metadata": {},
   "outputs": [
    {
     "data": {
      "text/html": [
       "<div>\n",
       "<style scoped>\n",
       "    .dataframe tbody tr th:only-of-type {\n",
       "        vertical-align: middle;\n",
       "    }\n",
       "\n",
       "    .dataframe tbody tr th {\n",
       "        vertical-align: top;\n",
       "    }\n",
       "\n",
       "    .dataframe thead th {\n",
       "        text-align: right;\n",
       "    }\n",
       "</style>\n",
       "<table border=\"1\" class=\"dataframe\">\n",
       "  <thead>\n",
       "    <tr style=\"text-align: right;\">\n",
       "      <th></th>\n",
       "      <th>summit_elev_coef</th>\n",
       "      <th>vertical_drop_coef</th>\n",
       "      <th>trams_coef</th>\n",
       "      <th>fastEight_coef</th>\n",
       "      <th>fastSixes_coef</th>\n",
       "      <th>fastQuads_coef</th>\n",
       "      <th>quad_coef</th>\n",
       "      <th>triple_coef</th>\n",
       "      <th>double_coef</th>\n",
       "      <th>surface_coef</th>\n",
       "      <th>...</th>\n",
       "      <th>Snow Making_ac_coef</th>\n",
       "      <th>daysOpenLastYear_coef</th>\n",
       "      <th>yearsOpen_coef</th>\n",
       "      <th>averageSnowfall_coef</th>\n",
       "      <th>AdultWeekday_coef</th>\n",
       "      <th>projectedDaysOpen_coef</th>\n",
       "      <th>NightSkiing_ac_coef</th>\n",
       "      <th>clusters_coef</th>\n",
       "      <th>EVS</th>\n",
       "      <th>MAE</th>\n",
       "    </tr>\n",
       "  </thead>\n",
       "  <tbody>\n",
       "    <tr>\n",
       "      <th>Model 2</th>\n",
       "      <td>0.497247</td>\n",
       "      <td>2.350428</td>\n",
       "      <td>8.881784e-16</td>\n",
       "      <td>4.440892e-16</td>\n",
       "      <td>1.110223e-15</td>\n",
       "      <td>0.183038</td>\n",
       "      <td>1.956536</td>\n",
       "      <td>1.058218</td>\n",
       "      <td>0.240142</td>\n",
       "      <td>1.21462</td>\n",
       "      <td>...</td>\n",
       "      <td>0.412711</td>\n",
       "      <td>1.508513</td>\n",
       "      <td>0.340265</td>\n",
       "      <td>0.166082</td>\n",
       "      <td>13.173677</td>\n",
       "      <td>1.204303</td>\n",
       "      <td>0.358476</td>\n",
       "      <td>2.382784</td>\n",
       "      <td>0.695944</td>\n",
       "      <td>6.348646</td>\n",
       "    </tr>\n",
       "  </tbody>\n",
       "</table>\n",
       "<p>1 rows × 25 columns</p>\n",
       "</div>"
      ],
      "text/plain": [
       "         summit_elev_coef  vertical_drop_coef    trams_coef  fastEight_coef  \\\n",
       "Model 2          0.497247            2.350428  8.881784e-16    4.440892e-16   \n",
       "\n",
       "         fastSixes_coef  fastQuads_coef  quad_coef  triple_coef  double_coef  \\\n",
       "Model 2    1.110223e-15        0.183038   1.956536     1.058218     0.240142   \n",
       "\n",
       "         surface_coef  ...  Snow Making_ac_coef  daysOpenLastYear_coef  \\\n",
       "Model 2       1.21462  ...             0.412711               1.508513   \n",
       "\n",
       "         yearsOpen_coef  averageSnowfall_coef  AdultWeekday_coef  \\\n",
       "Model 2        0.340265              0.166082          13.173677   \n",
       "\n",
       "         projectedDaysOpen_coef  NightSkiing_ac_coef  clusters_coef       EVS  \\\n",
       "Model 2                1.204303             0.358476       2.382784  0.695944   \n",
       "\n",
       "              MAE  \n",
       "Model 2  6.348646  \n",
       "\n",
       "[1 rows x 25 columns]"
      ]
     },
     "execution_count": 31,
     "metadata": {},
     "output_type": "execute_result"
    }
   ],
   "source": [
    "dfmd2 = dfcoe.T.add_suffix('_coef')\n",
    "dfmd2.index = ['Model 2']\n",
    "dfmd2['EVS'] = [evs]\n",
    "dfmd2['MAE'] = [mbe]\n",
    "dfmd2"
   ]
  },
  {
   "cell_type": "markdown",
   "metadata": {
    "colab_type": "text",
    "id": "ReRSy1yFGUYu"
   },
   "source": [
    "#### Best Model "
   ]
  },
  {
   "cell_type": "code",
   "execution_count": 32,
   "metadata": {
    "colab": {},
    "colab_type": "code",
    "id": "YRhPGbqPGUYv"
   },
   "outputs": [
    {
     "name": "stdout",
     "output_type": "stream",
     "text": [
      "0.6964701630020269 6.333027236718\n"
     ]
    },
    {
     "data": {
      "text/html": [
       "<div>\n",
       "<style scoped>\n",
       "    .dataframe tbody tr th:only-of-type {\n",
       "        vertical-align: middle;\n",
       "    }\n",
       "\n",
       "    .dataframe tbody tr th {\n",
       "        vertical-align: top;\n",
       "    }\n",
       "\n",
       "    .dataframe thead th {\n",
       "        text-align: right;\n",
       "    }\n",
       "</style>\n",
       "<table border=\"1\" class=\"dataframe\">\n",
       "  <thead>\n",
       "    <tr style=\"text-align: right;\">\n",
       "      <th></th>\n",
       "      <th>Coefficient</th>\n",
       "    </tr>\n",
       "  </thead>\n",
       "  <tbody>\n",
       "    <tr>\n",
       "      <th>AdultWeekday</th>\n",
       "      <td>13.174591</td>\n",
       "    </tr>\n",
       "    <tr>\n",
       "      <th>SkiableTerrain_ac</th>\n",
       "      <td>2.887166</td>\n",
       "    </tr>\n",
       "    <tr>\n",
       "      <th>vertical_drop</th>\n",
       "      <td>2.442870</td>\n",
       "    </tr>\n",
       "    <tr>\n",
       "      <th>clusters</th>\n",
       "      <td>1.980375</td>\n",
       "    </tr>\n",
       "    <tr>\n",
       "      <th>quad</th>\n",
       "      <td>1.955015</td>\n",
       "    </tr>\n",
       "    <tr>\n",
       "      <th>daysOpenLastYear</th>\n",
       "      <td>1.514394</td>\n",
       "    </tr>\n",
       "    <tr>\n",
       "      <th>Runs</th>\n",
       "      <td>1.309548</td>\n",
       "    </tr>\n",
       "    <tr>\n",
       "      <th>surface</th>\n",
       "      <td>1.220477</td>\n",
       "    </tr>\n",
       "    <tr>\n",
       "      <th>projectedDaysOpen</th>\n",
       "      <td>1.213964</td>\n",
       "    </tr>\n",
       "    <tr>\n",
       "      <th>triple</th>\n",
       "      <td>1.082437</td>\n",
       "    </tr>\n",
       "  </tbody>\n",
       "</table>\n",
       "</div>"
      ],
      "text/plain": [
       "                   Coefficient\n",
       "AdultWeekday         13.174591\n",
       "SkiableTerrain_ac     2.887166\n",
       "vertical_drop         2.442870\n",
       "clusters              1.980375\n",
       "quad                  1.955015\n",
       "daysOpenLastYear      1.514394\n",
       "Runs                  1.309548\n",
       "surface               1.220477\n",
       "projectedDaysOpen     1.213964\n",
       "triple                1.082437"
      ]
     },
     "execution_count": 32,
     "metadata": {},
     "output_type": "execute_result"
    }
   ],
   "source": [
    "# first we import the preprocessing package from the sklearn library\n",
    "from sklearn import preprocessing\n",
    "\n",
    "# Declare an explanatory variable, called X,and assign it the result of dropping inappropriate columns\n",
    "X = df.drop(['Name','AdultWeekend','summit_elev', 'state'], axis=1)\n",
    "\n",
    "# Declare a response variable, called y, and assign it the AdultWeekend column of the df \n",
    "y = df.AdultWeekend \n",
    "\n",
    "# Here we use the StandardScaler() method of the preprocessing package, and then call the fit() method with parameter X \n",
    "scaler = preprocessing.StandardScaler().fit(X)\n",
    "\n",
    "# Declare a variable called X_scaled, and assign it the result of calling the transform() method with parameter X \n",
    "X_scaled=scaler.transform(X) \n",
    "\n",
    "# Import the train_test_split function from the sklearn.model_selection utility.  \n",
    "from sklearn.model_selection import train_test_split\n",
    "\n",
    "# Get the 1-dimensional flattened array of our response variable y by calling the ravel() function on y\n",
    "y = y.ravel()\n",
    "\n",
    "# Call the train_test_split() function with the first two parameters set to X_scaled and y \n",
    "# Declare four variables, X_train, X_test, y_train and y_test separated by commas \n",
    "X_train, X_test, y_train, y_test = train_test_split(X_scaled, y, test_size=0.25, random_state=1)\n",
    "\n",
    "#all first model set\n",
    "from sklearn import linear_model\n",
    "from sklearn.metrics import explained_variance_score,mean_absolute_error\n",
    "lm = linear_model.LinearRegression()\n",
    "model = lm.fit(X_train,y_train)\n",
    "\n",
    "# Make a variable called y_pred and assign it the result of calling predict() on our model variable with parameter X_test\n",
    "y_pred = lm.predict(X_test)\n",
    "\n",
    "import sklearn.metrics\n",
    "evs = explained_variance_score(y_test, y_pred)\n",
    "mbe = mean_absolute_error(y_test, y_pred)\n",
    "print(evs, mbe)\n",
    "\n",
    "lm.intercept_\n",
    "\n",
    "# You might want to make a pandas DataFrame displaying the coefficients for each state like so: \n",
    "dfcoe = pd.DataFrame(abs(lm.coef_), X.columns, columns=['Coefficient'])\n",
    "dfcoe.sort_values(ascending=False, by=['Coefficient']).head(10)"
   ]
  },
  {
   "cell_type": "markdown",
   "metadata": {
    "colab_type": "text",
    "id": "GGizyeLZGUYz"
   },
   "source": [
    "## Review the results "
   ]
  },
  {
   "cell_type": "markdown",
   "metadata": {
    "colab_type": "text",
    "id": "4Lhu-qisGUY0"
   },
   "source": [
    "**<font color='teal'> Now, let's predict the Big Mountain Weekend price with our model in order to provide a recommendation to our managers on how to price the `AdultWeekend` lift ticket. First we need to find the row for Big Mountain resort in our data using string contains or string matching.</font>**"
   ]
  },
  {
   "cell_type": "code",
   "execution_count": 60,
   "metadata": {
    "colab": {},
    "colab_type": "code",
    "id": "YXnx_IuEGUY1"
   },
   "outputs": [
    {
     "data": {
      "text/html": [
       "<div>\n",
       "<style scoped>\n",
       "    .dataframe tbody tr th:only-of-type {\n",
       "        vertical-align: middle;\n",
       "    }\n",
       "\n",
       "    .dataframe tbody tr th {\n",
       "        vertical-align: top;\n",
       "    }\n",
       "\n",
       "    .dataframe thead th {\n",
       "        text-align: right;\n",
       "    }\n",
       "</style>\n",
       "<table border=\"1\" class=\"dataframe\">\n",
       "  <thead>\n",
       "    <tr style=\"text-align: right;\">\n",
       "      <th></th>\n",
       "      <th>Name</th>\n",
       "      <th>state</th>\n",
       "      <th>summit_elev</th>\n",
       "      <th>vertical_drop</th>\n",
       "      <th>trams</th>\n",
       "      <th>fastEight</th>\n",
       "      <th>fastSixes</th>\n",
       "      <th>fastQuads</th>\n",
       "      <th>quad</th>\n",
       "      <th>triple</th>\n",
       "      <th>...</th>\n",
       "      <th>SkiableTerrain_ac</th>\n",
       "      <th>Snow Making_ac</th>\n",
       "      <th>daysOpenLastYear</th>\n",
       "      <th>yearsOpen</th>\n",
       "      <th>averageSnowfall</th>\n",
       "      <th>AdultWeekday</th>\n",
       "      <th>AdultWeekend</th>\n",
       "      <th>projectedDaysOpen</th>\n",
       "      <th>NightSkiing_ac</th>\n",
       "      <th>clusters</th>\n",
       "    </tr>\n",
       "  </thead>\n",
       "  <tbody>\n",
       "    <tr>\n",
       "      <th>151</th>\n",
       "      <td>Whitefish Mountain Resort</td>\n",
       "      <td>Montana</td>\n",
       "      <td>6817.0</td>\n",
       "      <td>2353.0</td>\n",
       "      <td>0.0</td>\n",
       "      <td>0.0</td>\n",
       "      <td>0.0</td>\n",
       "      <td>3.0</td>\n",
       "      <td>2.0</td>\n",
       "      <td>6.0</td>\n",
       "      <td>...</td>\n",
       "      <td>3000.0</td>\n",
       "      <td>600.0</td>\n",
       "      <td>123.0</td>\n",
       "      <td>72.0</td>\n",
       "      <td>333.0</td>\n",
       "      <td>81.0</td>\n",
       "      <td>81.0</td>\n",
       "      <td>123.0</td>\n",
       "      <td>600.0</td>\n",
       "      <td>1</td>\n",
       "    </tr>\n",
       "  </tbody>\n",
       "</table>\n",
       "<p>1 rows × 26 columns</p>\n",
       "</div>"
      ],
      "text/plain": [
       "                          Name    state  summit_elev  vertical_drop  trams  \\\n",
       "151  Whitefish Mountain Resort  Montana       6817.0         2353.0    0.0   \n",
       "\n",
       "     fastEight  fastSixes  fastQuads  quad  triple  ...  SkiableTerrain_ac  \\\n",
       "151        0.0        0.0        3.0   2.0     6.0  ...             3000.0   \n",
       "\n",
       "     Snow Making_ac  daysOpenLastYear  yearsOpen  averageSnowfall  \\\n",
       "151           600.0             123.0       72.0            333.0   \n",
       "\n",
       "     AdultWeekday  AdultWeekend  projectedDaysOpen  NightSkiing_ac  clusters  \n",
       "151          81.0          81.0              123.0           600.0         1  \n",
       "\n",
       "[1 rows x 26 columns]"
      ]
     },
     "execution_count": 60,
     "metadata": {},
     "output_type": "execute_result"
    }
   ],
   "source": [
    "#df[df['Name'].str.contains('Big Mountain')] # There is no Big Mountain\n",
    "ac = df[df['Name'].str.contains('Whitefish')]\n",
    "df[df['Name'].str.contains('Whitefish')]"
   ]
  },
  {
   "cell_type": "markdown",
   "metadata": {
    "colab_type": "text",
    "id": "83-jO9hPGUY4"
   },
   "source": [
    "**<font color='teal'> Prepare the Big Mountain resort data row as you did in the model fitting stage.</font>**"
   ]
  },
  {
   "cell_type": "code",
   "execution_count": 61,
   "metadata": {
    "colab": {},
    "colab_type": "code",
    "id": "oWH_q9YOGUY5"
   },
   "outputs": [
    {
     "data": {
      "text/plain": [
       "Index(['Name', 'state', 'summit_elev', 'vertical_drop', 'trams', 'fastEight',\n",
       "       'fastSixes', 'fastQuads', 'quad', 'triple', 'double', 'surface',\n",
       "       'total_chairs', 'Runs', 'TerrainParks', 'LongestRun_mi',\n",
       "       'SkiableTerrain_ac', 'Snow Making_ac', 'daysOpenLastYear', 'yearsOpen',\n",
       "       'averageSnowfall', 'AdultWeekday', 'AdultWeekend', 'projectedDaysOpen',\n",
       "       'NightSkiing_ac', 'clusters'],\n",
       "      dtype='object')"
      ]
     },
     "execution_count": 61,
     "metadata": {},
     "output_type": "execute_result"
    }
   ],
   "source": [
    "acdrop = ac.drop(['Name','AdultWeekend','summit_elev', 'state'], axis=1)\n",
    "\n",
    "ac_scaled = scaler.transform(acdrop)\n"
   ]
  },
  {
   "cell_type": "markdown",
   "metadata": {
    "colab_type": "text",
    "id": "2BCFqZYBGUY9"
   },
   "source": [
    "**<font color='teal'> Predict the Big Mountain resort `Adult Weekend` price and print it out.</font>** This is our expected price to present to management. Based on our model given the characteristics of the resort in comparison to other ski resorts and their unique characteristics."
   ]
  },
  {
   "cell_type": "code",
   "execution_count": 44,
   "metadata": {
    "colab": {},
    "colab_type": "code",
    "id": "XebWxxTMGUY-"
   },
   "outputs": [
    {
     "name": "stdout",
     "output_type": "stream",
     "text": [
      "85.73682224862151\n"
     ]
    }
   ],
   "source": [
    "print(float(model.predict(ac_scaled)))"
   ]
  },
  {
   "cell_type": "markdown",
   "metadata": {
    "colab_type": "text",
    "id": "_5BvguMLGUZB"
   },
   "source": [
    "**<font color='teal'> Print the Big Mountain resort actual `Adult Weekend` price.</font>**"
   ]
  },
  {
   "cell_type": "code",
   "execution_count": 45,
   "metadata": {
    "colab": {},
    "colab_type": "code",
    "id": "WyxTHtL2GUZC"
   },
   "outputs": [
    {
     "name": "stdout",
     "output_type": "stream",
     "text": [
      "81\n"
     ]
    }
   ],
   "source": [
    "print(int(ac.AdultWeekend))"
   ]
  },
  {
   "cell_type": "markdown",
   "metadata": {},
   "source": [
    "### Profit from changing price to predicted"
   ]
  },
  {
   "cell_type": "code",
   "execution_count": 62,
   "metadata": {},
   "outputs": [
    {
     "name": "stdout",
     "output_type": "stream",
     "text": [
      "1659000.0\n",
      "1750000\n",
      "1400000\n"
     ]
    }
   ],
   "source": [
    "acp = int(ac.AdultWeekend)\n",
    "predp = float(model.predict(ac_scaled))\n",
    "\n",
    "print((85.74 * 350000) - (acp * 350000))\n",
    "print((math.ceil(predp) * 350000) - (acp * 350000))\n",
    "print((math.floor(predp) * 350000) - (acp * 350000))"
   ]
  },
  {
   "cell_type": "markdown",
   "metadata": {
    "colab_type": "text",
    "id": "O0Yli8MXGUZH"
   },
   "source": [
    "**<font color='teal'> As part of reviewing the results it is an important step to generate figures to visualize the data story. We can use the clusters we added to our data frame to create scatter plots for visualizing the Adult Weekend values compared to other characteristics. Run the example below to get you started and build two or three more figures to include in your data story telling.</font>**"
   ]
  },
  {
   "cell_type": "code",
   "execution_count": 53,
   "metadata": {},
   "outputs": [],
   "source": [
    "os.chdir(r'C:\\Users\\2bogu\\Desktop\\Sringboard_Materials\\guided capstone mat')"
   ]
  },
  {
   "cell_type": "code",
   "execution_count": 54,
   "metadata": {
    "colab": {},
    "colab_type": "code",
    "id": "xWtr873fGUZI"
   },
   "outputs": [
    {
     "data": {
      "image/png": "[encoded data removed]",
      "text/plain": [
       "<Figure size 432x288 with 1 Axes>"
      ]
     },
     "metadata": {
      "needs_background": "light"
     },
     "output_type": "display_data"
    }
   ],
   "source": [
    "plt.scatter(df['summit_elev'], df['vertical_drop'], c=df['clusters'], s=50, cmap='viridis', label ='clusters')\n",
    "plt.scatter(ac['summit_elev'], ac['vertical_drop'], c='black', s=100)\n",
    "plt.xlabel('summit_elev')\n",
    "plt.ylabel('vertical_drop')\n",
    "plt.title('summit_elev by vertical_drop by cluster')\n",
    "plt.savefig('figures/fig1.png',bbox_inches='tight')"
   ]
  },
  {
   "cell_type": "code",
   "execution_count": 55,
   "metadata": {
    "colab": {},
    "colab_type": "code",
    "id": "530JtuJxGUZL"
   },
   "outputs": [
    {
     "data": {
      "image/png": "[encoded data removed]",
      "text/plain": [
       "<Figure size 432x288 with 1 Axes>"
      ]
     },
     "metadata": {
      "needs_background": "light"
     },
     "output_type": "display_data"
    }
   ],
   "source": [
    "plt.scatter(df['vertical_drop'], df['AdultWeekend'], c=df['clusters'], s=50, cmap='viridis', label ='clusters')\n",
    "plt.scatter(ac['vertical_drop'], ac['AdultWeekend'], c='black', s=100)\n",
    "plt.xlabel('vertical_drop')\n",
    "plt.ylabel('AdultWeekend')\n",
    "plt.title('Vertical_drop by AdultWeekend ticket price by cluster')\n",
    "plt.savefig('figures/fig2.png',bbox_inches='tight')"
   ]
  },
  {
   "cell_type": "code",
   "execution_count": 56,
   "metadata": {
    "colab": {},
    "colab_type": "code",
    "id": "kGvf4kTwGUZR",
    "scrolled": true
   },
   "outputs": [
    {
     "data": {
      "image/png": "[encoded data removed]",
      "text/plain": [
       "<Figure size 432x288 with 1 Axes>"
      ]
     },
     "metadata": {
      "needs_background": "light"
     },
     "output_type": "display_data"
    }
   ],
   "source": [
    "plt.scatter(df['Runs'], df['AdultWeekend'], c=df['clusters'], s=50, cmap='viridis', label ='clusters')\n",
    "plt.scatter(ac['Runs'], ac['AdultWeekend'], c='black', s=100)\n",
    "plt.xlabel('Runs')\n",
    "plt.ylabel('AdultWeekend')\n",
    "plt.title('Runs by AdultWeekend ticket price by cluster')\n",
    "plt.savefig('figures/fig3.png',bbox_inches='tight')"
   ]
  },
  {
   "cell_type": "code",
   "execution_count": 57,
   "metadata": {
    "colab": {},
    "colab_type": "code",
    "id": "OYZB84hYGUZU"
   },
   "outputs": [
    {
     "data": {
      "image/png": "[encoded data removed]",
      "text/plain": [
       "<Figure size 432x288 with 1 Axes>"
      ]
     },
     "metadata": {
      "needs_background": "light"
     },
     "output_type": "display_data"
    }
   ],
   "source": [
    "plt.scatter(df['total_chairs'], df['AdultWeekend'], c=df['clusters'], s=50, cmap='viridis', label ='clusters')\n",
    "plt.scatter(ac['total_chairs'], ac['AdultWeekend'], c='black', s=100)\n",
    "plt.xlabel('Total Chairs')\n",
    "plt.ylabel('AdultWeekend')\n",
    "plt.title('Total Chairs by AdultWeekend Ticket Price by cluster')\n",
    "plt.savefig('figures/fig4.png',bbox_inches='tight')"
   ]
  },
  {
   "cell_type": "code",
   "execution_count": 58,
   "metadata": {
    "scrolled": true
   },
   "outputs": [
    {
     "data": {
      "image/png": "[encoded data removed]",
      "text/plain": [
       "<Figure size 432x288 with 1 Axes>"
      ]
     },
     "metadata": {
      "needs_background": "light"
     },
     "output_type": "display_data"
    }
   ],
   "source": [
    "plt.scatter(df['SkiableTerrain_ac'], df['AdultWeekend'], c=df['clusters'], s=50, cmap='viridis', label ='clusters')\n",
    "plt.scatter(ac['SkiableTerrain_ac'], ac['AdultWeekend'], c='black', s=100)\n",
    "plt.xlabel('SkiableTerrain')\n",
    "plt.ylabel('AdultWeekend')\n",
    "plt.title('SkiableTerrain by AdultWeekend ticket price by cluster')\n",
    "plt.savefig('figures/fig5.png',bbox_inches='tight')"
   ]
  },
  {
   "cell_type": "code",
   "execution_count": 59,
   "metadata": {},
   "outputs": [
    {
     "data": {
      "image/png": "[encoded data removed]",
      "text/plain": [
       "<Figure size 432x288 with 1 Axes>"
      ]
     },
     "metadata": {
      "needs_background": "light"
     },
     "output_type": "display_data"
    }
   ],
   "source": [
    "plt.scatter(df['LongestRun_mi'], df['AdultWeekend'], c=df['clusters'], s=50, cmap='viridis', label ='clusters')\n",
    "plt.scatter(ac['LongestRun_mi'], ac['AdultWeekend'], c='black', s=100)\n",
    "plt.xlabel('LongestRun_mi')\n",
    "plt.ylabel('AdultWeekend')\n",
    "plt.title('LongestRun by AdultWeekend ticket price by cluster')\n",
    "plt.savefig('figures/fig6.png',bbox_inches='tight')"
   ]
  },
  {
   "cell_type": "code",
   "execution_count": null,
   "metadata": {},
   "outputs": [],
   "source": []
  },
  {
   "cell_type": "markdown",
   "metadata": {
    "colab_type": "text",
    "id": "giLKE2WMGUZh"
   },
   "source": [
    "## Finalize Code"
   ]
  },
  {
   "cell_type": "markdown",
   "metadata": {
    "colab_type": "text",
    "id": "pps_ASHoGUZi"
   },
   "source": [
    " Making sure our code is well organized and easy to follow is an important step. This is the time where you need to review the notebooks and Python scripts you've created and clean them up so they are easy to follow and succinct in nature. Addtionally, we will also save our final model as a callable object using Pickle for future use in a data pipeline. Pickle is a module that serializes (and de-serializes) Python objects so that they can become executable objects like functions. It's used extensively in production environments where machine learning models are deployed on an industrial scale!**<font color='teal'> Run the example code below to save out your callable model. Notice that we save it in the models folder we created in our previous guided capstone step.</font>** "
   ]
  },
  {
   "cell_type": "code",
   "execution_count": 21,
   "metadata": {
    "colab": {},
    "colab_type": "code",
    "id": "X_h0tkt_GUZj"
   },
   "outputs": [
    {
     "data": {
      "text/plain": [
       "['models/regression_model_adultweekend.joblib']"
      ]
     },
     "execution_count": 21,
     "metadata": {},
     "output_type": "execute_result"
    }
   ],
   "source": [
    "import pickle\n",
    "s = pickle.dumps(model)\n",
    "from joblib import dump, load\n",
    "dump(model, 'models/regression_model_adultweekend.joblib') "
   ]
  },
  {
   "cell_type": "markdown",
   "metadata": {
    "colab_type": "text",
    "id": "MTVrVlerGUZn"
   },
   "source": [
    "## Finalize Documentation"
   ]
  },
  {
   "cell_type": "markdown",
   "metadata": {
    "colab_type": "text",
    "id": "thEMyu-DGUZo"
   },
   "source": [
    "For model documentation, we want to save the model performance metrics as well as the features included in the final model. You could also save the model perfomance metrics and coefficients fo the other models you tried in case you want to refer to them later. **<font color='teal'> Create a dataframe containing the coefficients and the model performance metrics and save it out as a csv file, then upload it to your github repository.</font>** "
   ]
  },
  {
   "cell_type": "code",
   "execution_count": 23,
   "metadata": {
    "colab": {},
    "colab_type": "code",
    "id": "278tnHLlGUZp"
   },
   "outputs": [],
   "source": [
    "dfper = dfcoe.T.add_suffix('_coef')\n",
    "dfper.index = ['Model 3']\n",
    "dfper['EVS'] = [evs]\n",
    "dfper['MAE'] = [mbe]\n",
    "dfper = dfper.append(dfmd1)\n",
    "dfper = dfper.append(dfmd2)"
   ]
  },
  {
   "cell_type": "code",
   "execution_count": 24,
   "metadata": {},
   "outputs": [
    {
     "data": {
      "text/html": [
       "<div>\n",
       "<style scoped>\n",
       "    .dataframe tbody tr th:only-of-type {\n",
       "        vertical-align: middle;\n",
       "    }\n",
       "\n",
       "    .dataframe tbody tr th {\n",
       "        vertical-align: top;\n",
       "    }\n",
       "\n",
       "    .dataframe thead th {\n",
       "        text-align: right;\n",
       "    }\n",
       "</style>\n",
       "<table border=\"1\" class=\"dataframe\">\n",
       "  <thead>\n",
       "    <tr style=\"text-align: right;\">\n",
       "      <th></th>\n",
       "      <th>vertical_drop_coef</th>\n",
       "      <th>trams_coef</th>\n",
       "      <th>fastEight_coef</th>\n",
       "      <th>fastSixes_coef</th>\n",
       "      <th>fastQuads_coef</th>\n",
       "      <th>quad_coef</th>\n",
       "      <th>triple_coef</th>\n",
       "      <th>double_coef</th>\n",
       "      <th>surface_coef</th>\n",
       "      <th>total_chairs_coef</th>\n",
       "      <th>...</th>\n",
       "      <th>state_Rhode Island_coef</th>\n",
       "      <th>state_South Dakota_coef</th>\n",
       "      <th>state_Tennessee_coef</th>\n",
       "      <th>state_Utah_coef</th>\n",
       "      <th>state_Vermont_coef</th>\n",
       "      <th>state_Virginia_coef</th>\n",
       "      <th>state_Washington_coef</th>\n",
       "      <th>state_West Virginia_coef</th>\n",
       "      <th>state_Wisconsin_coef</th>\n",
       "      <th>state_Wyoming_coef</th>\n",
       "    </tr>\n",
       "  </thead>\n",
       "  <tbody>\n",
       "    <tr>\n",
       "      <th>Model 3</th>\n",
       "      <td>2.442870</td>\n",
       "      <td>0.000000e+00</td>\n",
       "      <td>0.000000e+00</td>\n",
       "      <td>4.718448e-16</td>\n",
       "      <td>1.668333e-01</td>\n",
       "      <td>1.955015e+00</td>\n",
       "      <td>1.082437e+00</td>\n",
       "      <td>2.434466e-01</td>\n",
       "      <td>1.220477e+00</td>\n",
       "      <td>6.738610e-01</td>\n",
       "      <td>...</td>\n",
       "      <td>NaN</td>\n",
       "      <td>NaN</td>\n",
       "      <td>NaN</td>\n",
       "      <td>NaN</td>\n",
       "      <td>NaN</td>\n",
       "      <td>NaN</td>\n",
       "      <td>NaN</td>\n",
       "      <td>NaN</td>\n",
       "      <td>NaN</td>\n",
       "      <td>NaN</td>\n",
       "    </tr>\n",
       "    <tr>\n",
       "      <th>Model 1</th>\n",
       "      <td>1.387301</td>\n",
       "      <td>5.130946e+12</td>\n",
       "      <td>6.185674e+12</td>\n",
       "      <td>8.762081e+12</td>\n",
       "      <td>1.368791e+12</td>\n",
       "      <td>1.418499e+12</td>\n",
       "      <td>2.003859e+12</td>\n",
       "      <td>2.436670e+12</td>\n",
       "      <td>2.175887e+12</td>\n",
       "      <td>4.612489e+12</td>\n",
       "      <td>...</td>\n",
       "      <td>1.269512e+11</td>\n",
       "      <td>1.791984e+11</td>\n",
       "      <td>1.269512e+11</td>\n",
       "      <td>3.543162e+11</td>\n",
       "      <td>3.750828e+11</td>\n",
       "      <td>2.190578e+11</td>\n",
       "      <td>3.543162e+11</td>\n",
       "      <td>2.524666e+11</td>\n",
       "      <td>4.785662e+11</td>\n",
       "      <td>3.320716e+11</td>\n",
       "    </tr>\n",
       "    <tr>\n",
       "      <th>Model 2</th>\n",
       "      <td>2.350428</td>\n",
       "      <td>8.881784e-16</td>\n",
       "      <td>4.440892e-16</td>\n",
       "      <td>1.110223e-15</td>\n",
       "      <td>1.830383e-01</td>\n",
       "      <td>1.956536e+00</td>\n",
       "      <td>1.058218e+00</td>\n",
       "      <td>2.401424e-01</td>\n",
       "      <td>1.214620e+00</td>\n",
       "      <td>6.696339e-01</td>\n",
       "      <td>...</td>\n",
       "      <td>NaN</td>\n",
       "      <td>NaN</td>\n",
       "      <td>NaN</td>\n",
       "      <td>NaN</td>\n",
       "      <td>NaN</td>\n",
       "      <td>NaN</td>\n",
       "      <td>NaN</td>\n",
       "      <td>NaN</td>\n",
       "      <td>NaN</td>\n",
       "      <td>NaN</td>\n",
       "    </tr>\n",
       "  </tbody>\n",
       "</table>\n",
       "<p>3 rows × 60 columns</p>\n",
       "</div>"
      ],
      "text/plain": [
       "         vertical_drop_coef    trams_coef  fastEight_coef  fastSixes_coef  \\\n",
       "Model 3            2.442870  0.000000e+00    0.000000e+00    4.718448e-16   \n",
       "Model 1            1.387301  5.130946e+12    6.185674e+12    8.762081e+12   \n",
       "Model 2            2.350428  8.881784e-16    4.440892e-16    1.110223e-15   \n",
       "\n",
       "         fastQuads_coef     quad_coef   triple_coef   double_coef  \\\n",
       "Model 3    1.668333e-01  1.955015e+00  1.082437e+00  2.434466e-01   \n",
       "Model 1    1.368791e+12  1.418499e+12  2.003859e+12  2.436670e+12   \n",
       "Model 2    1.830383e-01  1.956536e+00  1.058218e+00  2.401424e-01   \n",
       "\n",
       "         surface_coef  total_chairs_coef  ...  state_Rhode Island_coef  \\\n",
       "Model 3  1.220477e+00       6.738610e-01  ...                      NaN   \n",
       "Model 1  2.175887e+12       4.612489e+12  ...             1.269512e+11   \n",
       "Model 2  1.214620e+00       6.696339e-01  ...                      NaN   \n",
       "\n",
       "         state_South Dakota_coef  state_Tennessee_coef  state_Utah_coef  \\\n",
       "Model 3                      NaN                   NaN              NaN   \n",
       "Model 1             1.791984e+11          1.269512e+11     3.543162e+11   \n",
       "Model 2                      NaN                   NaN              NaN   \n",
       "\n",
       "         state_Vermont_coef  state_Virginia_coef  state_Washington_coef  \\\n",
       "Model 3                 NaN                  NaN                    NaN   \n",
       "Model 1        3.750828e+11         2.190578e+11           3.543162e+11   \n",
       "Model 2                 NaN                  NaN                    NaN   \n",
       "\n",
       "         state_West Virginia_coef  state_Wisconsin_coef  state_Wyoming_coef  \n",
       "Model 3                       NaN                   NaN                 NaN  \n",
       "Model 1              2.524666e+11          4.785662e+11        3.320716e+11  \n",
       "Model 2                       NaN                   NaN                 NaN  \n",
       "\n",
       "[3 rows x 60 columns]"
      ]
     },
     "execution_count": 24,
     "metadata": {},
     "output_type": "execute_result"
    }
   ],
   "source": [
    "dfper"
   ]
  },
  {
   "cell_type": "code",
   "execution_count": 44,
   "metadata": {
    "colab": {},
    "colab_type": "code",
    "id": "4CEOoBLFGUZr"
   },
   "outputs": [],
   "source": [
    "dfper.to_csv(r'C:\\Users\\2bogu\\Desktop\\Sringboard_Materials\\Springboard\\Guided Capstone\\performance_metrics.csv')"
   ]
  },
  {
   "cell_type": "code",
   "execution_count": 45,
   "metadata": {},
   "outputs": [],
   "source": [
    "dfper.to_csv(r'C:\\Users\\2bogu\\Desktop\\Sringboard_Materials\\guided capstone mat\\data\\performance_metrics.csv')"
   ]
  },
  {
   "cell_type": "code",
   "execution_count": null,
   "metadata": {},
   "outputs": [],
   "source": []
  }
 ],
 "metadata": {
  "colab": {
   "collapsed_sections": [
    "RtEspslPZyGY",
    "s0DokMkAZyGc",
    "2iuitnKcZyHS",
    "iAWQxougZyHW",
    "ThMTimlBZyHZ",
    "QwZ-LkjXZyHt",
    "srtXEA3N4-Y9",
    "ChVreJupZyIA",
    "zDgSSsq1ZyID",
    "I3GYKWfi5Llg",
    "pmMvrhbI-viE",
    "ZXDPkW3UZyIX",
    "Dnc_vHQLZyId",
    "daJxuJ-dZyIg",
    "mAQ-oHiPZyIn",
    "hnGOsp3mZyIp"
   ],
   "name": "GuidedCapstoneStep6.ipynb",
   "provenance": [],
   "toc_visible": true
  },
  "kernelspec": {
   "display_name": "Python 3",
   "language": "python",
   "name": "python3"
  },
  "language_info": {
   "codemirror_mode": {
    "name": "ipython",
    "version": 3
   },
   "file_extension": ".py",
   "mimetype": "text/x-python",
   "name": "python",
   "nbconvert_exporter": "python",
   "pygments_lexer": "ipython3",
   "version": "3.7.6"
  },
  "toc": {
   "base_numbering": "0",
   "nav_menu": {},
   "number_sections": true,
   "sideBar": true,
   "skip_h1_title": false,
   "title_cell": "Table of Contents",
   "title_sidebar": "Contents",
   "toc_cell": true,
   "toc_position": {
    "height": "calc(100% - 180px)",
    "left": "10px",
    "top": "150px",
    "width": "288px"
   },
   "toc_section_display": true,
   "toc_window_display": true
  }
 },
 "nbformat": 4,
 "nbformat_minor": 1
}
